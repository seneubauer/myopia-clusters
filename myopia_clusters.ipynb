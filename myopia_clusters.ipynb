{
 "cells": [
  {
   "cell_type": "markdown",
   "id": "927b1226",
   "metadata": {},
   "source": [
    "### Machine Specific"
   ]
  },
  {
   "cell_type": "code",
   "execution_count": null,
   "id": "baac685d",
   "metadata": {},
   "outputs": [],
   "source": [
    "# prevent memory leak for Windows\n",
    "import os\n",
    "os.environ[\"OMP_NUM_THREADS\"] = \"1\""
   ]
  },
  {
   "cell_type": "markdown",
   "id": "64996292",
   "metadata": {},
   "source": [
    "### Import Dependencies"
   ]
  },
  {
   "cell_type": "code",
   "execution_count": null,
   "id": "ebe1b96a",
   "metadata": {},
   "outputs": [],
   "source": [
    "# for machine learning\n",
    "from sklearn.preprocessing import StandardScaler\n",
    "from sklearn.decomposition import PCA\n",
    "from sklearn.manifold import TSNE\n",
    "from sklearn.cluster import KMeans\n",
    "\n",
    "# for data handling\n",
    "import pandas as pd\n",
    "\n",
    "# for visualization\n",
    "import matplotlib.pyplot as plt"
   ]
  },
  {
   "cell_type": "markdown",
   "id": "4a5fa8fb",
   "metadata": {},
   "source": [
    "### Define Functions"
   ]
  },
  {
   "cell_type": "code",
   "execution_count": null,
   "id": "e176a666",
   "metadata": {},
   "outputs": [],
   "source": [
    "# functions\n",
    "def get_clusters(k, data):\n",
    "    model = KMeans(n_clusters = k, random_state = 1)\n",
    "    model.fit(data)\n",
    "    predictions = model.predict(data)\n",
    "    data[\"class\"] = model.labels_\n",
    "    return data\n",
    "\n",
    "def show_clusters(df, x, y):\n",
    "    plt.scatter(df[x], df[y], c = df[\"class\"])\n",
    "    plt.xlabel(x)\n",
    "    plt.ylabel(y)\n",
    "    plt.savefig(os.path.join(\"Output\", \"output.png\"))\n",
    "    plt.show()"
   ]
  },
  {
   "cell_type": "markdown",
   "id": "5e36ce27",
   "metadata": {},
   "source": [
    "### Import and Prepare Data"
   ]
  },
  {
   "cell_type": "code",
   "execution_count": null,
   "id": "04f98386",
   "metadata": {},
   "outputs": [],
   "source": [
    "# define parameters\n",
    "pca_variance = 0.9\n",
    "tsne_lr = 35"
   ]
  },
  {
   "cell_type": "code",
   "execution_count": null,
   "id": "4563f948",
   "metadata": {},
   "outputs": [],
   "source": [
    "# bring in the dataset\n",
    "myopia_df = pd.read_csv(os.path.join(\"Resources\", \"myopia.csv\"))\n",
    "\n",
    "# preview the raw data\n",
    "myopia_df.head()"
   ]
  },
  {
   "cell_type": "code",
   "execution_count": null,
   "id": "9c798a75",
   "metadata": {},
   "outputs": [],
   "source": [
    "# remove the output to prevent overtraining\n",
    "myopia_df = myopia_df.drop(\"MYOPIC\", axis = 1)\n",
    "myopia_df.head()"
   ]
  },
  {
   "cell_type": "code",
   "execution_count": null,
   "id": "1bcfbda1",
   "metadata": {},
   "outputs": [],
   "source": [
    "# standardize the dataset\n",
    "myopia_scaled = StandardScaler().fit_transform(myopia_df)\n",
    "\n",
    "# reduce the dataset's features with PCA\n",
    "pca = PCA(n_components = pca_variance)\n",
    "myopia_pca = pca.fit_transform(myopia_scaled)\n",
    "myopia_pca_df = pd.DataFrame( data = myopia_pca, columns = [f\"pc{x}\" for x in range(myopia_pca.shape[1])])\n",
    "myopia_pca_df.shape"
   ]
  },
  {
   "cell_type": "code",
   "execution_count": null,
   "id": "4a224e33",
   "metadata": {},
   "outputs": [],
   "source": [
    "# further reduce the dataset's features with t-SNE\n",
    "tsne = TSNE(learning_rate = tsne_lr)\n",
    "tsne_features = tsne.fit_transform(myopia_pca_df)\n",
    "tsne_features.shape"
   ]
  },
  {
   "cell_type": "code",
   "execution_count": null,
   "id": "d95a4371",
   "metadata": {},
   "outputs": [],
   "source": [
    "# recombine the t-SNE features with the dataset\n",
    "myopia_pca_df[\"x\"] = tsne_features[:,0]\n",
    "myopia_pca_df[\"y\"] = tsne_features[:,1]\n",
    "\n",
    "# preview the t-SNE reduced features\n",
    "plt.scatter(myopia_pca_df[\"x\"], myopia_pca_df[\"y\"])\n",
    "plt.show()"
   ]
  },
  {
   "cell_type": "code",
   "execution_count": null,
   "id": "de3ec0fe",
   "metadata": {},
   "outputs": [],
   "source": [
    "# build the k means elbow plot\n",
    "inertia = []\n",
    "k = [i + 1 for i in range(10)]\n",
    "\n",
    "for i in k:\n",
    "    km = KMeans(n_clusters = i, random_state = 1)\n",
    "    km.fit(myopia_pca_df)\n",
    "    inertia.append(km.inertia_)\n",
    "\n",
    "elbow_df = pd.DataFrame({ \"k\": k, \"inertia\": inertia })\n",
    "plt.plot(elbow_df[\"k\"], elbow_df[\"inertia\"])\n",
    "plt.xticks(k)\n",
    "plt.title(\"Elbow Curve\")\n",
    "plt.xlabel(\"Cluster #\")\n",
    "plt.ylabel(\"Inertia\")\n",
    "plt.show()"
   ]
  },
  {
   "cell_type": "code",
   "execution_count": null,
   "id": "99041072",
   "metadata": {},
   "outputs": [],
   "source": [
    "# it appears that k = 3 is ideal\n",
    "clusters = get_clusters(3, myopia_pca_df)\n",
    "\n",
    "# show the clusters\n",
    "show_clusters(clusters, \"x\", \"y\")"
   ]
  },
  {
   "cell_type": "markdown",
   "id": "727ee053",
   "metadata": {},
   "source": [
    "### Assessment\n",
    "Given this output, it is safe to say there are 3 clusters within the given dataset. The value of 3 is first identified by the elbow curve's strongest derivative then confirmed by the colored clusters. There is clear distinction between the three groups."
   ]
  },
  {
   "cell_type": "code",
   "execution_count": null,
   "id": "c9ca74e6",
   "metadata": {},
   "outputs": [],
   "source": []
  }
 ],
 "metadata": {
  "kernelspec": {
   "display_name": "Python 3 (ipykernel)",
   "language": "python",
   "name": "python3"
  },
  "language_info": {
   "codemirror_mode": {
    "name": "ipython",
    "version": 3
   },
   "file_extension": ".py",
   "mimetype": "text/x-python",
   "name": "python",
   "nbconvert_exporter": "python",
   "pygments_lexer": "ipython3",
   "version": "3.8.13"
  }
 },
 "nbformat": 4,
 "nbformat_minor": 5
}
