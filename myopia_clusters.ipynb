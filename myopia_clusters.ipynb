{
 "cells": [
  {
   "cell_type": "code",
   "execution_count": null,
   "id": "ebe1b96a",
   "metadata": {},
   "outputs": [],
   "source": [
    "# for machine learning\n",
    "from sklearn.preprocessing import StandardScaler\n",
    "from sklearn.decomposition import PCA\n",
    "from sklearn.manifold import TSNE\n",
    "from sklearn.cluster import KMeans\n",
    "\n",
    "# for data handling\n",
    "import pandas as pd\n",
    "\n",
    "# for visualization\n",
    "import matplotlib.pyplot as plt"
   ]
  },
  {
   "cell_type": "code",
   "execution_count": null,
   "id": "9c798a75",
   "metadata": {},
   "outputs": [],
   "source": [
    "# bring in the dataset\n",
    "myopia_df = pd.read_csv(\"https://2u-data-curriculum-team.s3.amazonaws.com/dataviz-classroom/v1.1/21-Deep-Learning/myopia.csv\")\n",
    "\n",
    "# extract the labels for later use\n",
    "labels = myopia_df[\"MYOPIC\"]\n",
    "\n",
    "# remove the output\n",
    "myopia_df = myopia_df.drop(\"MYOPIC\", axis = 1)\n",
    "myopia_df.head()"
   ]
  },
  {
   "cell_type": "code",
   "execution_count": null,
   "id": "1bcfbda1",
   "metadata": {},
   "outputs": [],
   "source": [
    "# standardize the dataset\n",
    "myopia_scaled = StandardScaler().fit_transform(myopia_df)"
   ]
  },
  {
   "cell_type": "code",
   "execution_count": null,
   "id": "946b0bb1",
   "metadata": {},
   "outputs": [],
   "source": [
    "# reduce the dataset's features with PCA\n",
    "pca = PCA(n_components = 0.99)\n",
    "myopia_pca = pca.fit_transform(myopia_scaled)\n",
    "myopia_pca_df = pd.DataFrame( data = myopia_pca, columns = [f\"pc{x}\" for x in range(myopia_pca.shape[1])])\n",
    "myopia_pca_df.head()"
   ]
  },
  {
   "cell_type": "code",
   "execution_count": null,
   "id": "4a224e33",
   "metadata": {},
   "outputs": [],
   "source": [
    "# further reduce the dataset's features with t-SNE\n",
    "tsne = TSNE(learning_rate = 35)\n",
    "tsne_features = tsne.fit_transform(myopia_pca_df)\n",
    "tsne_features.shape"
   ]
  },
  {
   "cell_type": "code",
   "execution_count": null,
   "id": "d95a4371",
   "metadata": {},
   "outputs": [],
   "source": [
    "# recombine the t-SNE features with the dataset\n",
    "myopia_pca_df[\"x\"] = tsne_features[:,0]\n",
    "myopia_pca_df[\"y\"] = tsne_features[:,1]"
   ]
  },
  {
   "cell_type": "code",
   "execution_count": null,
   "id": "96d2ff02",
   "metadata": {},
   "outputs": [],
   "source": [
    "plt.scatter(myopia_pca_df[\"x\"], myopia_pca_df[\"y\"])\n",
    "plt.show()"
   ]
  },
  {
   "cell_type": "code",
   "execution_count": null,
   "id": "f64c3a12",
   "metadata": {},
   "outputs": [],
   "source": [
    "plt.scatter(myopia_pca_df[\"x\"], myopia_pca_df[\"y\"], c = labels)\n",
    "plt.show()"
   ]
  },
  {
   "cell_type": "code",
   "execution_count": null,
   "id": "de3ec0fe",
   "metadata": {},
   "outputs": [],
   "source": [
    "# inertia = []\n",
    "# k = [i for i in range(10)]\n",
    "\n",
    "# for i in k:\n",
    "#     km = KMeans(n_clusters = i, random_state = 1)\n",
    "#     km.fit(myopia_pca_df)\n",
    "#     inertia.append(km.inertia_)\n",
    "\n",
    "# elbow_df = pd.DataFrame({ \"k\": k, \"inertia\": inertia })\n",
    "# plt.plot(elbow_df[\"k\"], elbow_df[\"inertia\"])\n",
    "# plt.xticks(k)\n",
    "# plt.title(\"Elbow Curve\")\n",
    "# plt.xlabel(\"Cluster #\")\n",
    "# plt.ylabel(\"Inertia\")\n",
    "# plt.show()"
   ]
  }
 ],
 "metadata": {
  "kernelspec": {
   "display_name": "Python 3 (ipykernel)",
   "language": "python",
   "name": "python3"
  },
  "language_info": {
   "codemirror_mode": {
    "name": "ipython",
    "version": 3
   },
   "file_extension": ".py",
   "mimetype": "text/x-python",
   "name": "python",
   "nbconvert_exporter": "python",
   "pygments_lexer": "ipython3",
   "version": "3.8.13"
  }
 },
 "nbformat": 4,
 "nbformat_minor": 5
}
